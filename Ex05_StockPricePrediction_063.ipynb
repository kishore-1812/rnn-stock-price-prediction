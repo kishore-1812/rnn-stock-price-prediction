{
  "nbformat": 4,
  "nbformat_minor": 0,
  "metadata": {
    "colab": {
      "provenance": [],
      "collapsed_sections": [],
      "include_colab_link": true
    },
    "kernelspec": {
      "name": "python3",
      "display_name": "Python 3"
    },
    "language_info": {
      "name": "python"
    }
  },
  "cells": [
    {
      "cell_type": "markdown",
      "metadata": {
        "id": "view-in-github",
        "colab_type": "text"
      },
      "source": [
        "<a href=\"https://colab.research.google.com/github/kishore-1812/rnn-stock-price-prediction/blob/main/Ex05_StockPricePrediction_063.ipynb\" target=\"_parent\"><img src=\"https://colab.research.google.com/assets/colab-badge.svg\" alt=\"Open In Colab\"/></a>"
      ]
    },
    {
      "cell_type": "code",
      "execution_count": 24,
      "metadata": {
        "id": "rWulUnXvE0XQ"
      },
      "outputs": [],
      "source": [
        "import numpy as np\n",
        "import matplotlib.pyplot as plt\n",
        "import pandas as pd\n",
        "from sklearn.preprocessing import MinMaxScaler\n",
        "from keras import layers\n",
        "from keras.models import Sequential"
      ]
    },
    {
      "cell_type": "code",
      "source": [
        "dataset_train = pd.read_csv('trainset.csv')\n"
      ],
      "metadata": {
        "id": "G9yM-i2fGSeD"
      },
      "execution_count": 25,
      "outputs": []
    },
    {
      "cell_type": "code",
      "source": [
        "dataset_train.columns"
      ],
      "metadata": {
        "id": "ZnNFxG1yHJXj",
        "colab": {
          "base_uri": "https://localhost:8080/"
        },
        "outputId": "3b2800a0-26e2-4a23-d376-6aa8885f35d4"
      },
      "execution_count": 26,
      "outputs": [
        {
          "output_type": "execute_result",
          "data": {
            "text/plain": [
              "Index(['Date', 'Open', 'High', 'Low', 'Close', 'Adj Close', 'Volume'], dtype='object')"
            ]
          },
          "metadata": {},
          "execution_count": 26
        }
      ]
    },
    {
      "cell_type": "code",
      "source": [
        "dataset_train.head()"
      ],
      "metadata": {
        "id": "ioHdtmFxHSQ5",
        "colab": {
          "base_uri": "https://localhost:8080/",
          "height": 206
        },
        "outputId": "9c178c07-0ef3-427d-8eca-8c1402a266c3"
      },
      "execution_count": 27,
      "outputs": [
        {
          "output_type": "execute_result",
          "data": {
            "text/plain": [
              "         Date        Open        High         Low       Close   Adj Close  \\\n",
              "0  2013-01-02  357.385559  361.151062  355.959839  359.288177  359.288177   \n",
              "1  2013-01-03  360.122742  363.600128  358.031342  359.496826  359.496826   \n",
              "2  2013-01-04  362.313507  368.339294  361.488861  366.600616  366.600616   \n",
              "3  2013-01-07  365.348755  367.301056  362.929504  365.001007  365.001007   \n",
              "4  2013-01-08  365.393463  365.771027  359.874359  364.280701  364.280701   \n",
              "\n",
              "    Volume  \n",
              "0  5115500  \n",
              "1  4666500  \n",
              "2  5562800  \n",
              "3  3332900  \n",
              "4  3373900  "
            ],
            "text/html": [
              "\n",
              "  <div id=\"df-edcedd01-4fa2-4315-aff9-404406555974\">\n",
              "    <div class=\"colab-df-container\">\n",
              "      <div>\n",
              "<style scoped>\n",
              "    .dataframe tbody tr th:only-of-type {\n",
              "        vertical-align: middle;\n",
              "    }\n",
              "\n",
              "    .dataframe tbody tr th {\n",
              "        vertical-align: top;\n",
              "    }\n",
              "\n",
              "    .dataframe thead th {\n",
              "        text-align: right;\n",
              "    }\n",
              "</style>\n",
              "<table border=\"1\" class=\"dataframe\">\n",
              "  <thead>\n",
              "    <tr style=\"text-align: right;\">\n",
              "      <th></th>\n",
              "      <th>Date</th>\n",
              "      <th>Open</th>\n",
              "      <th>High</th>\n",
              "      <th>Low</th>\n",
              "      <th>Close</th>\n",
              "      <th>Adj Close</th>\n",
              "      <th>Volume</th>\n",
              "    </tr>\n",
              "  </thead>\n",
              "  <tbody>\n",
              "    <tr>\n",
              "      <th>0</th>\n",
              "      <td>2013-01-02</td>\n",
              "      <td>357.385559</td>\n",
              "      <td>361.151062</td>\n",
              "      <td>355.959839</td>\n",
              "      <td>359.288177</td>\n",
              "      <td>359.288177</td>\n",
              "      <td>5115500</td>\n",
              "    </tr>\n",
              "    <tr>\n",
              "      <th>1</th>\n",
              "      <td>2013-01-03</td>\n",
              "      <td>360.122742</td>\n",
              "      <td>363.600128</td>\n",
              "      <td>358.031342</td>\n",
              "      <td>359.496826</td>\n",
              "      <td>359.496826</td>\n",
              "      <td>4666500</td>\n",
              "    </tr>\n",
              "    <tr>\n",
              "      <th>2</th>\n",
              "      <td>2013-01-04</td>\n",
              "      <td>362.313507</td>\n",
              "      <td>368.339294</td>\n",
              "      <td>361.488861</td>\n",
              "      <td>366.600616</td>\n",
              "      <td>366.600616</td>\n",
              "      <td>5562800</td>\n",
              "    </tr>\n",
              "    <tr>\n",
              "      <th>3</th>\n",
              "      <td>2013-01-07</td>\n",
              "      <td>365.348755</td>\n",
              "      <td>367.301056</td>\n",
              "      <td>362.929504</td>\n",
              "      <td>365.001007</td>\n",
              "      <td>365.001007</td>\n",
              "      <td>3332900</td>\n",
              "    </tr>\n",
              "    <tr>\n",
              "      <th>4</th>\n",
              "      <td>2013-01-08</td>\n",
              "      <td>365.393463</td>\n",
              "      <td>365.771027</td>\n",
              "      <td>359.874359</td>\n",
              "      <td>364.280701</td>\n",
              "      <td>364.280701</td>\n",
              "      <td>3373900</td>\n",
              "    </tr>\n",
              "  </tbody>\n",
              "</table>\n",
              "</div>\n",
              "      <button class=\"colab-df-convert\" onclick=\"convertToInteractive('df-edcedd01-4fa2-4315-aff9-404406555974')\"\n",
              "              title=\"Convert this dataframe to an interactive table.\"\n",
              "              style=\"display:none;\">\n",
              "        \n",
              "  <svg xmlns=\"http://www.w3.org/2000/svg\" height=\"24px\"viewBox=\"0 0 24 24\"\n",
              "       width=\"24px\">\n",
              "    <path d=\"M0 0h24v24H0V0z\" fill=\"none\"/>\n",
              "    <path d=\"M18.56 5.44l.94 2.06.94-2.06 2.06-.94-2.06-.94-.94-2.06-.94 2.06-2.06.94zm-11 1L8.5 8.5l.94-2.06 2.06-.94-2.06-.94L8.5 2.5l-.94 2.06-2.06.94zm10 10l.94 2.06.94-2.06 2.06-.94-2.06-.94-.94-2.06-.94 2.06-2.06.94z\"/><path d=\"M17.41 7.96l-1.37-1.37c-.4-.4-.92-.59-1.43-.59-.52 0-1.04.2-1.43.59L10.3 9.45l-7.72 7.72c-.78.78-.78 2.05 0 2.83L4 21.41c.39.39.9.59 1.41.59.51 0 1.02-.2 1.41-.59l7.78-7.78 2.81-2.81c.8-.78.8-2.07 0-2.86zM5.41 20L4 18.59l7.72-7.72 1.47 1.35L5.41 20z\"/>\n",
              "  </svg>\n",
              "      </button>\n",
              "      \n",
              "  <style>\n",
              "    .colab-df-container {\n",
              "      display:flex;\n",
              "      flex-wrap:wrap;\n",
              "      gap: 12px;\n",
              "    }\n",
              "\n",
              "    .colab-df-convert {\n",
              "      background-color: #E8F0FE;\n",
              "      border: none;\n",
              "      border-radius: 50%;\n",
              "      cursor: pointer;\n",
              "      display: none;\n",
              "      fill: #1967D2;\n",
              "      height: 32px;\n",
              "      padding: 0 0 0 0;\n",
              "      width: 32px;\n",
              "    }\n",
              "\n",
              "    .colab-df-convert:hover {\n",
              "      background-color: #E2EBFA;\n",
              "      box-shadow: 0px 1px 2px rgba(60, 64, 67, 0.3), 0px 1px 3px 1px rgba(60, 64, 67, 0.15);\n",
              "      fill: #174EA6;\n",
              "    }\n",
              "\n",
              "    [theme=dark] .colab-df-convert {\n",
              "      background-color: #3B4455;\n",
              "      fill: #D2E3FC;\n",
              "    }\n",
              "\n",
              "    [theme=dark] .colab-df-convert:hover {\n",
              "      background-color: #434B5C;\n",
              "      box-shadow: 0px 1px 3px 1px rgba(0, 0, 0, 0.15);\n",
              "      filter: drop-shadow(0px 1px 2px rgba(0, 0, 0, 0.3));\n",
              "      fill: #FFFFFF;\n",
              "    }\n",
              "  </style>\n",
              "\n",
              "      <script>\n",
              "        const buttonEl =\n",
              "          document.querySelector('#df-edcedd01-4fa2-4315-aff9-404406555974 button.colab-df-convert');\n",
              "        buttonEl.style.display =\n",
              "          google.colab.kernel.accessAllowed ? 'block' : 'none';\n",
              "\n",
              "        async function convertToInteractive(key) {\n",
              "          const element = document.querySelector('#df-edcedd01-4fa2-4315-aff9-404406555974');\n",
              "          const dataTable =\n",
              "            await google.colab.kernel.invokeFunction('convertToInteractive',\n",
              "                                                     [key], {});\n",
              "          if (!dataTable) return;\n",
              "\n",
              "          const docLinkHtml = 'Like what you see? Visit the ' +\n",
              "            '<a target=\"_blank\" href=https://colab.research.google.com/notebooks/data_table.ipynb>data table notebook</a>'\n",
              "            + ' to learn more about interactive tables.';\n",
              "          element.innerHTML = '';\n",
              "          dataTable['output_type'] = 'display_data';\n",
              "          await google.colab.output.renderOutput(dataTable, element);\n",
              "          const docLink = document.createElement('div');\n",
              "          docLink.innerHTML = docLinkHtml;\n",
              "          element.appendChild(docLink);\n",
              "        }\n",
              "      </script>\n",
              "    </div>\n",
              "  </div>\n",
              "  "
            ]
          },
          "metadata": {},
          "execution_count": 27
        }
      ]
    },
    {
      "cell_type": "code",
      "source": [
        "train_set = dataset_train.iloc[:,1:2].values"
      ],
      "metadata": {
        "id": "od_Jh97fHxsp"
      },
      "execution_count": 28,
      "outputs": []
    },
    {
      "cell_type": "code",
      "source": [
        "type(train_set)"
      ],
      "metadata": {
        "id": "ipOhkvP0H8Ki",
        "colab": {
          "base_uri": "https://localhost:8080/"
        },
        "outputId": "bb74e154-ae3f-4bde-eb8a-960c574beeb3"
      },
      "execution_count": 29,
      "outputs": [
        {
          "output_type": "execute_result",
          "data": {
            "text/plain": [
              "numpy.ndarray"
            ]
          },
          "metadata": {},
          "execution_count": 29
        }
      ]
    },
    {
      "cell_type": "code",
      "source": [
        "train_set.shape"
      ],
      "metadata": {
        "id": "10qpaYabITYB",
        "colab": {
          "base_uri": "https://localhost:8080/"
        },
        "outputId": "26c27a61-bff0-4ea7-f4a4-f2f9f4eab8f5"
      },
      "execution_count": 30,
      "outputs": [
        {
          "output_type": "execute_result",
          "data": {
            "text/plain": [
              "(1259, 1)"
            ]
          },
          "metadata": {},
          "execution_count": 30
        }
      ]
    },
    {
      "cell_type": "code",
      "source": [
        "sc = MinMaxScaler(feature_range=(0,1))\n",
        "training_set_scaled = sc.fit_transform(train_set)"
      ],
      "metadata": {
        "id": "Wc5QNHisIMcp"
      },
      "execution_count": 31,
      "outputs": []
    },
    {
      "cell_type": "code",
      "source": [
        "training_set_scaled.shape"
      ],
      "metadata": {
        "id": "VYMccXBzjMzz",
        "colab": {
          "base_uri": "https://localhost:8080/"
        },
        "outputId": "b17c968c-68a1-4585-f46f-adebbd5e17ad"
      },
      "execution_count": 32,
      "outputs": [
        {
          "output_type": "execute_result",
          "data": {
            "text/plain": [
              "(1259, 1)"
            ]
          },
          "metadata": {},
          "execution_count": 32
        }
      ]
    },
    {
      "cell_type": "code",
      "source": [
        "X_train_array = []\n",
        "y_train_array = []\n",
        "for i in range(60, 1259):\n",
        "  X_train_array.append(training_set_scaled[i-60:i,0])\n",
        "  y_train_array.append(training_set_scaled[i,0])\n",
        "X_train, y_train = np.array(X_train_array), np.array(y_train_array)\n",
        "X_train1 = X_train.reshape((X_train.shape[0], X_train.shape[1],1))\n"
      ],
      "metadata": {
        "id": "qO7NJjsCI1qq"
      },
      "execution_count": 33,
      "outputs": []
    },
    {
      "cell_type": "code",
      "source": [
        "X_train.shape"
      ],
      "metadata": {
        "id": "0rRZyii1IWmq",
        "colab": {
          "base_uri": "https://localhost:8080/"
        },
        "outputId": "14f1d636-fc65-4e60-c190-36eb66264a9b"
      },
      "execution_count": 34,
      "outputs": [
        {
          "output_type": "execute_result",
          "data": {
            "text/plain": [
              "(1199, 60)"
            ]
          },
          "metadata": {},
          "execution_count": 34
        }
      ]
    },
    {
      "cell_type": "code",
      "source": [
        "length = 60\n",
        "n_features = 1"
      ],
      "metadata": {
        "id": "BknoiyHTN_tb"
      },
      "execution_count": 35,
      "outputs": []
    },
    {
      "cell_type": "code",
      "source": [
        "model = Sequential([layers.SimpleRNN(70,input_shape=(60,1)),\n",
        "                    layers.Dense(1)\n",
        "                    ])\n",
        "\n",
        "model.compile(optimizer='Adam', loss='mae')"
      ],
      "metadata": {
        "id": "tb1wq3smJuDF"
      },
      "execution_count": 36,
      "outputs": []
    },
    {
      "cell_type": "code",
      "source": [
        "model.summary()"
      ],
      "metadata": {
        "id": "RmitWR-Qk500",
        "colab": {
          "base_uri": "https://localhost:8080/"
        },
        "outputId": "af469861-14eb-459e-f1fc-fa965b04abf8"
      },
      "execution_count": 37,
      "outputs": [
        {
          "output_type": "stream",
          "name": "stdout",
          "text": [
            "Model: \"sequential_1\"\n",
            "_________________________________________________________________\n",
            " Layer (type)                Output Shape              Param #   \n",
            "=================================================================\n",
            " simple_rnn_1 (SimpleRNN)    (None, 70)                5040      \n",
            "                                                                 \n",
            " dense_1 (Dense)             (None, 1)                 71        \n",
            "                                                                 \n",
            "=================================================================\n",
            "Total params: 5,111\n",
            "Trainable params: 5,111\n",
            "Non-trainable params: 0\n",
            "_________________________________________________________________\n"
          ]
        }
      ]
    },
    {
      "cell_type": "code",
      "source": [
        "model.fit(X_train1,y_train,epochs=100, batch_size=32)"
      ],
      "metadata": {
        "id": "fXZtPWTgO5T7",
        "colab": {
          "base_uri": "https://localhost:8080/"
        },
        "outputId": "65380a98-fe38-4325-f729-9e282ef363b2"
      },
      "execution_count": 38,
      "outputs": [
        {
          "output_type": "stream",
          "name": "stdout",
          "text": [
            "Epoch 1/100\n",
            "38/38 [==============================] - 1s 7ms/step - loss: 0.0514\n",
            "Epoch 2/100\n",
            "38/38 [==============================] - 0s 7ms/step - loss: 0.0190\n",
            "Epoch 3/100\n",
            "38/38 [==============================] - 0s 7ms/step - loss: 0.0188\n",
            "Epoch 4/100\n",
            "38/38 [==============================] - 0s 7ms/step - loss: 0.0155\n",
            "Epoch 5/100\n",
            "38/38 [==============================] - 0s 7ms/step - loss: 0.0159\n",
            "Epoch 6/100\n",
            "38/38 [==============================] - 0s 8ms/step - loss: 0.0143\n",
            "Epoch 7/100\n",
            "38/38 [==============================] - 0s 7ms/step - loss: 0.0139\n",
            "Epoch 8/100\n",
            "38/38 [==============================] - 0s 7ms/step - loss: 0.0120\n",
            "Epoch 9/100\n",
            "38/38 [==============================] - 0s 8ms/step - loss: 0.0118\n",
            "Epoch 10/100\n",
            "38/38 [==============================] - 0s 7ms/step - loss: 0.0121\n",
            "Epoch 11/100\n",
            "38/38 [==============================] - 0s 7ms/step - loss: 0.0113\n",
            "Epoch 12/100\n",
            "38/38 [==============================] - 0s 6ms/step - loss: 0.0107\n",
            "Epoch 13/100\n",
            "38/38 [==============================] - 0s 7ms/step - loss: 0.0115\n",
            "Epoch 14/100\n",
            "38/38 [==============================] - 0s 7ms/step - loss: 0.0120\n",
            "Epoch 15/100\n",
            "38/38 [==============================] - 0s 7ms/step - loss: 0.0104\n",
            "Epoch 16/100\n",
            "38/38 [==============================] - 0s 7ms/step - loss: 0.0101\n",
            "Epoch 17/100\n",
            "38/38 [==============================] - 0s 7ms/step - loss: 0.0107\n",
            "Epoch 18/100\n",
            "38/38 [==============================] - 0s 7ms/step - loss: 0.0134\n",
            "Epoch 19/100\n",
            "38/38 [==============================] - 0s 8ms/step - loss: 0.0117\n",
            "Epoch 20/100\n",
            "38/38 [==============================] - 0s 7ms/step - loss: 0.0108\n",
            "Epoch 21/100\n",
            "38/38 [==============================] - 0s 7ms/step - loss: 0.0100\n",
            "Epoch 22/100\n",
            "38/38 [==============================] - 0s 7ms/step - loss: 0.0099\n",
            "Epoch 23/100\n",
            "38/38 [==============================] - 0s 7ms/step - loss: 0.0112\n",
            "Epoch 24/100\n",
            "38/38 [==============================] - 0s 7ms/step - loss: 0.0103\n",
            "Epoch 25/100\n",
            "38/38 [==============================] - 0s 7ms/step - loss: 0.0106\n",
            "Epoch 26/100\n",
            "38/38 [==============================] - 0s 7ms/step - loss: 0.0098\n",
            "Epoch 27/100\n",
            "38/38 [==============================] - 0s 7ms/step - loss: 0.0097\n",
            "Epoch 28/100\n",
            "38/38 [==============================] - 0s 7ms/step - loss: 0.0104\n",
            "Epoch 29/100\n",
            "38/38 [==============================] - 0s 7ms/step - loss: 0.0095\n",
            "Epoch 30/100\n",
            "38/38 [==============================] - 0s 7ms/step - loss: 0.0091\n",
            "Epoch 31/100\n",
            "38/38 [==============================] - 0s 6ms/step - loss: 0.0092\n",
            "Epoch 32/100\n",
            "38/38 [==============================] - 0s 7ms/step - loss: 0.0092\n",
            "Epoch 33/100\n",
            "38/38 [==============================] - 0s 7ms/step - loss: 0.0091\n",
            "Epoch 34/100\n",
            "38/38 [==============================] - 0s 7ms/step - loss: 0.0095\n",
            "Epoch 35/100\n",
            "38/38 [==============================] - 0s 7ms/step - loss: 0.0090\n",
            "Epoch 36/100\n",
            "38/38 [==============================] - 0s 7ms/step - loss: 0.0089\n",
            "Epoch 37/100\n",
            "38/38 [==============================] - 0s 7ms/step - loss: 0.0094\n",
            "Epoch 38/100\n",
            "38/38 [==============================] - 0s 7ms/step - loss: 0.0095\n",
            "Epoch 39/100\n",
            "38/38 [==============================] - 0s 7ms/step - loss: 0.0096\n",
            "Epoch 40/100\n",
            "38/38 [==============================] - 0s 7ms/step - loss: 0.0094\n",
            "Epoch 41/100\n",
            "38/38 [==============================] - 0s 6ms/step - loss: 0.0093\n",
            "Epoch 42/100\n",
            "38/38 [==============================] - 0s 6ms/step - loss: 0.0090\n",
            "Epoch 43/100\n",
            "38/38 [==============================] - 0s 7ms/step - loss: 0.0090\n",
            "Epoch 44/100\n",
            "38/38 [==============================] - 0s 7ms/step - loss: 0.0099\n",
            "Epoch 45/100\n",
            "38/38 [==============================] - 0s 7ms/step - loss: 0.0087\n",
            "Epoch 46/100\n",
            "38/38 [==============================] - 0s 7ms/step - loss: 0.0095\n",
            "Epoch 47/100\n",
            "38/38 [==============================] - 0s 7ms/step - loss: 0.0091\n",
            "Epoch 48/100\n",
            "38/38 [==============================] - 0s 7ms/step - loss: 0.0087\n",
            "Epoch 49/100\n",
            "38/38 [==============================] - 0s 7ms/step - loss: 0.0092\n",
            "Epoch 50/100\n",
            "38/38 [==============================] - 0s 7ms/step - loss: 0.0087\n",
            "Epoch 51/100\n",
            "38/38 [==============================] - 0s 7ms/step - loss: 0.0089\n",
            "Epoch 52/100\n",
            "38/38 [==============================] - 0s 7ms/step - loss: 0.0088\n",
            "Epoch 53/100\n",
            "38/38 [==============================] - 0s 7ms/step - loss: 0.0089\n",
            "Epoch 54/100\n",
            "38/38 [==============================] - 0s 7ms/step - loss: 0.0091\n",
            "Epoch 55/100\n",
            "38/38 [==============================] - 0s 7ms/step - loss: 0.0092\n",
            "Epoch 56/100\n",
            "38/38 [==============================] - 0s 7ms/step - loss: 0.0091\n",
            "Epoch 57/100\n",
            "38/38 [==============================] - 0s 7ms/step - loss: 0.0086\n",
            "Epoch 58/100\n",
            "38/38 [==============================] - 0s 7ms/step - loss: 0.0089\n",
            "Epoch 59/100\n",
            "38/38 [==============================] - 0s 7ms/step - loss: 0.0092\n",
            "Epoch 60/100\n",
            "38/38 [==============================] - 0s 7ms/step - loss: 0.0092\n",
            "Epoch 61/100\n",
            "38/38 [==============================] - 0s 7ms/step - loss: 0.0089\n",
            "Epoch 62/100\n",
            "38/38 [==============================] - 0s 7ms/step - loss: 0.0090\n",
            "Epoch 63/100\n",
            "38/38 [==============================] - 0s 7ms/step - loss: 0.0091\n",
            "Epoch 64/100\n",
            "38/38 [==============================] - 0s 7ms/step - loss: 0.0089\n",
            "Epoch 65/100\n",
            "38/38 [==============================] - 0s 8ms/step - loss: 0.0090\n",
            "Epoch 66/100\n",
            "38/38 [==============================] - 0s 7ms/step - loss: 0.0092\n",
            "Epoch 67/100\n",
            "38/38 [==============================] - 0s 8ms/step - loss: 0.0090\n",
            "Epoch 68/100\n",
            "38/38 [==============================] - 0s 7ms/step - loss: 0.0093\n",
            "Epoch 69/100\n",
            "38/38 [==============================] - 0s 7ms/step - loss: 0.0094\n",
            "Epoch 70/100\n",
            "38/38 [==============================] - 0s 7ms/step - loss: 0.0090\n",
            "Epoch 71/100\n",
            "38/38 [==============================] - 0s 7ms/step - loss: 0.0090\n",
            "Epoch 72/100\n",
            "38/38 [==============================] - 0s 8ms/step - loss: 0.0086\n",
            "Epoch 73/100\n",
            "38/38 [==============================] - 0s 6ms/step - loss: 0.0090\n",
            "Epoch 74/100\n",
            "38/38 [==============================] - 0s 6ms/step - loss: 0.0091\n",
            "Epoch 75/100\n",
            "38/38 [==============================] - 0s 7ms/step - loss: 0.0086\n",
            "Epoch 76/100\n",
            "38/38 [==============================] - 0s 7ms/step - loss: 0.0087\n",
            "Epoch 77/100\n",
            "38/38 [==============================] - 0s 7ms/step - loss: 0.0090\n",
            "Epoch 78/100\n",
            "38/38 [==============================] - 0s 7ms/step - loss: 0.0089\n",
            "Epoch 79/100\n",
            "38/38 [==============================] - 0s 7ms/step - loss: 0.0086\n",
            "Epoch 80/100\n",
            "38/38 [==============================] - 0s 7ms/step - loss: 0.0094\n",
            "Epoch 81/100\n",
            "38/38 [==============================] - 0s 8ms/step - loss: 0.0095\n",
            "Epoch 82/100\n",
            "38/38 [==============================] - 0s 7ms/step - loss: 0.0087\n",
            "Epoch 83/100\n",
            "38/38 [==============================] - 0s 7ms/step - loss: 0.0089\n",
            "Epoch 84/100\n",
            "38/38 [==============================] - 0s 7ms/step - loss: 0.0088\n",
            "Epoch 85/100\n",
            "38/38 [==============================] - 0s 8ms/step - loss: 0.0088\n",
            "Epoch 86/100\n",
            "38/38 [==============================] - 0s 7ms/step - loss: 0.0091\n",
            "Epoch 87/100\n",
            "38/38 [==============================] - 0s 7ms/step - loss: 0.0086\n",
            "Epoch 88/100\n",
            "38/38 [==============================] - 0s 7ms/step - loss: 0.0091\n",
            "Epoch 89/100\n",
            "38/38 [==============================] - 0s 7ms/step - loss: 0.0092\n",
            "Epoch 90/100\n",
            "38/38 [==============================] - 0s 7ms/step - loss: 0.0100\n",
            "Epoch 91/100\n",
            "38/38 [==============================] - 0s 7ms/step - loss: 0.0094\n",
            "Epoch 92/100\n",
            "38/38 [==============================] - 0s 7ms/step - loss: 0.0091\n",
            "Epoch 93/100\n",
            "38/38 [==============================] - 0s 7ms/step - loss: 0.0088\n",
            "Epoch 94/100\n",
            "38/38 [==============================] - 0s 7ms/step - loss: 0.0088\n",
            "Epoch 95/100\n",
            "38/38 [==============================] - 0s 7ms/step - loss: 0.0092\n",
            "Epoch 96/100\n",
            "38/38 [==============================] - 0s 7ms/step - loss: 0.0089\n",
            "Epoch 97/100\n",
            "38/38 [==============================] - 0s 7ms/step - loss: 0.0095\n",
            "Epoch 98/100\n",
            "38/38 [==============================] - 0s 7ms/step - loss: 0.0088\n",
            "Epoch 99/100\n",
            "38/38 [==============================] - 0s 8ms/step - loss: 0.0089\n",
            "Epoch 100/100\n",
            "38/38 [==============================] - 0s 7ms/step - loss: 0.0092\n"
          ]
        },
        {
          "output_type": "execute_result",
          "data": {
            "text/plain": [
              "<keras.callbacks.History at 0x7fb92bef6b50>"
            ]
          },
          "metadata": {},
          "execution_count": 38
        }
      ]
    },
    {
      "cell_type": "code",
      "source": [
        "dataset_test = pd.read_csv('testset.csv')"
      ],
      "metadata": {
        "id": "OJzVwjRmPqDb"
      },
      "execution_count": 39,
      "outputs": []
    },
    {
      "cell_type": "code",
      "source": [
        "test_set = dataset_test.iloc[:,1:2].values"
      ],
      "metadata": {
        "id": "JPrrd1n-Px7o"
      },
      "execution_count": 40,
      "outputs": []
    },
    {
      "cell_type": "code",
      "source": [
        "test_set.shape"
      ],
      "metadata": {
        "id": "WQgU2aH0bHZy",
        "colab": {
          "base_uri": "https://localhost:8080/"
        },
        "outputId": "436471fe-09a6-486d-fed2-fdd4f549256b"
      },
      "execution_count": 41,
      "outputs": [
        {
          "output_type": "execute_result",
          "data": {
            "text/plain": [
              "(125, 1)"
            ]
          },
          "metadata": {},
          "execution_count": 41
        }
      ]
    },
    {
      "cell_type": "code",
      "source": [
        "dataset_total = pd.concat((dataset_train['Open'],dataset_test['Open']),axis=0)"
      ],
      "metadata": {
        "id": "jqBvI7uQa8dz"
      },
      "execution_count": 42,
      "outputs": []
    },
    {
      "cell_type": "code",
      "source": [
        "inputs = dataset_total.values\n",
        "inputs = inputs.reshape(-1,1)\n",
        "inputs_scaled=sc.transform(inputs)\n",
        "X_test = []\n",
        "for i in range(60,1384):\n",
        "  X_test.append(inputs_scaled[i-60:i,0])\n",
        "X_test = np.array(X_test)\n",
        "X_test = np.reshape(X_test,(X_test.shape[0], X_test.shape[1],1))"
      ],
      "metadata": {
        "id": "V6w4Dq01QJXk"
      },
      "execution_count": 43,
      "outputs": []
    },
    {
      "cell_type": "code",
      "source": [
        "X_test.shape"
      ],
      "metadata": {
        "id": "zup_dSFXbqed",
        "colab": {
          "base_uri": "https://localhost:8080/"
        },
        "outputId": "5ff627cd-6e1d-442a-f438-6fa44cd5a251"
      },
      "execution_count": 44,
      "outputs": [
        {
          "output_type": "execute_result",
          "data": {
            "text/plain": [
              "(1324, 60, 1)"
            ]
          },
          "metadata": {},
          "execution_count": 44
        }
      ]
    },
    {
      "cell_type": "code",
      "source": [
        "predicted_stock_price_scaled = model.predict(X_test)\n",
        "predicted_stock_price = sc.inverse_transform(predicted_stock_price_scaled)"
      ],
      "metadata": {
        "id": "M02bWmdhRneT",
        "colab": {
          "base_uri": "https://localhost:8080/"
        },
        "outputId": "573ccf00-69e8-44b5-c4a8-241014098027"
      },
      "execution_count": 45,
      "outputs": [
        {
          "output_type": "stream",
          "name": "stdout",
          "text": [
            "42/42 [==============================] - 0s 3ms/step\n"
          ]
        }
      ]
    },
    {
      "cell_type": "code",
      "source": [
        "plt.plot(np.arange(0,1384),inputs, color='red', label = 'Test(Real) Google stock price')\n",
        "plt.plot(np.arange(60,1384),predicted_stock_price, color='blue', label = 'Predicted Google stock price')\n",
        "plt.title('Google Stock Price Prediction')\n",
        "plt.xlabel('Time')\n",
        "plt.ylabel('Google Stock Price')\n",
        "plt.legend()\n",
        "plt.show()"
      ],
      "metadata": {
        "id": "60GZR-9ZR34C",
        "colab": {
          "base_uri": "https://localhost:8080/",
          "height": 295
        },
        "outputId": "1af0a11a-d60d-4522-e5aa-9c30f49c27a5"
      },
      "execution_count": 46,
      "outputs": [
        {
          "output_type": "display_data",
          "data": {
            "text/plain": [
              "<Figure size 432x288 with 1 Axes>"
            ],
            "image/png": "[encoded data removed]"
          },
          "metadata": {
            "needs_background": "light"
          }
        }
      ]
    }
  ]
}